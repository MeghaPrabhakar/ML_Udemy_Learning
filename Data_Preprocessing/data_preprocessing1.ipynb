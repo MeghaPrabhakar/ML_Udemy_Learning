{
  "nbformat": 4,
  "nbformat_minor": 0,
  "metadata": {
    "colab": {
      "provenance": []
    },
    "kernelspec": {
      "name": "python3",
      "display_name": "Python 3"
    },
    "language_info": {
      "name": "python"
    }
  },
  "cells": [
    {
      "cell_type": "code",
      "execution_count": 1,
      "metadata": {
        "id": "0A3IXZZbed_m"
      },
      "outputs": [],
      "source": [
        "#import libraries\n",
        "import pandas as pd\n",
        "import numpy as np\n",
        "import matplotlib.pyplot as plt"
      ]
    },
    {
      "cell_type": "code",
      "source": [
        "#import datasets\n",
        "df = pd.read_csv('Data.csv')\n",
        "X=df.iloc[:,:-1].values #except last column\n",
        "Y=df.iloc[:,-1].values #only last column"
      ],
      "metadata": {
        "id": "Pe4OoNUXerRm"
      },
      "execution_count": 21,
      "outputs": []
    },
    {
      "cell_type": "code",
      "source": [
        "#Data Cleaning/Taking care of missing data and feature scaling\n",
        "from sklearn.impute import SimpleImputer\n",
        "imputer = SimpleImputer(missing_values=np.nan,strategy='mean')\n",
        "imputer.fit(X[:,1:3])#need to fit using the means in first 3 columns\n",
        "X[:,1:3]=imputer.transform(X[:,1:3])#replace the nan with the calculated mean and hence transform\n",
        "print(X)\n",
        "print('-------------------------------------------------')\n",
        "print('--------Independent Variable transformer---------')\n",
        "print('-------------------------------------------------')\n",
        "#Further cleaning/formatting the data - encoding the independent and dependent variables\n",
        "from sklearn.compose import ColumnTransformer\n",
        "from sklearn.preprocessing import OneHotEncoder\n",
        "ct = ColumnTransformer(transformers=[('encoder', OneHotEncoder(), [0])], remainder='passthrough')\n",
        "X = np.array(ct.fit_transform(X))\n",
        "print(X)\n",
        "print('-----------------------------------------------------')\n",
        "print('--------Dependent Variable/Label transformer---------')\n",
        "print('-----------------------------------------------------')\n",
        "from sklearn.preprocessing import LabelEncoder\n",
        "le=LabelEncoder()\n",
        "Y=le.fit_transform(Y)\n",
        "print(Y)"
      ],
      "metadata": {
        "colab": {
          "base_uri": "https://localhost:8080/"
        },
        "id": "Flbd-K0Bfj-5",
        "outputId": "40e89444-1336-4cac-d05d-db190dc93e76"
      },
      "execution_count": 33,
      "outputs": [
        {
          "output_type": "stream",
          "name": "stdout",
          "text": [
            "[[1.0 0.0 1.0 0.0 1.0 0.0 0.0 44.0 72000.0]\n",
            " [0.0 1.0 0.0 1.0 0.0 0.0 1.0 27.0 48000.0]\n",
            " [0.0 1.0 0.0 1.0 0.0 1.0 0.0 30.0 54000.0]\n",
            " [0.0 1.0 0.0 1.0 0.0 0.0 1.0 38.0 61000.0]\n",
            " [0.0 1.0 0.0 1.0 0.0 1.0 0.0 40.0 63777.77777777778]\n",
            " [1.0 0.0 1.0 0.0 1.0 0.0 0.0 35.0 58000.0]\n",
            " [0.0 1.0 0.0 1.0 0.0 0.0 1.0 38.77777777777778 52000.0]\n",
            " [1.0 0.0 1.0 0.0 1.0 0.0 0.0 48.0 79000.0]\n",
            " [0.0 1.0 0.0 1.0 0.0 1.0 0.0 50.0 83000.0]\n",
            " [1.0 0.0 1.0 0.0 1.0 0.0 0.0 37.0 67000.0]]\n",
            "-------------------------------------------------\n",
            "--------Independent Variable transformer---------\n",
            "-------------------------------------------------\n",
            "[[0.0 1.0 0.0 1.0 0.0 1.0 0.0 0.0 44.0 72000.0]\n",
            " [1.0 0.0 1.0 0.0 1.0 0.0 0.0 1.0 27.0 48000.0]\n",
            " [1.0 0.0 1.0 0.0 1.0 0.0 1.0 0.0 30.0 54000.0]\n",
            " [1.0 0.0 1.0 0.0 1.0 0.0 0.0 1.0 38.0 61000.0]\n",
            " [1.0 0.0 1.0 0.0 1.0 0.0 1.0 0.0 40.0 63777.77777777778]\n",
            " [0.0 1.0 0.0 1.0 0.0 1.0 0.0 0.0 35.0 58000.0]\n",
            " [1.0 0.0 1.0 0.0 1.0 0.0 0.0 1.0 38.77777777777778 52000.0]\n",
            " [0.0 1.0 0.0 1.0 0.0 1.0 0.0 0.0 48.0 79000.0]\n",
            " [1.0 0.0 1.0 0.0 1.0 0.0 1.0 0.0 50.0 83000.0]\n",
            " [0.0 1.0 0.0 1.0 0.0 1.0 0.0 0.0 37.0 67000.0]]\n",
            "-----------------------------------------------------\n",
            "--------Dependent Variable/Label transformer---------\n",
            "-----------------------------------------------------\n",
            "[0 1 0 0 1 1 0 1 0 1]\n"
          ]
        }
      ]
    },
    {
      "cell_type": "code",
      "source": [
        "#Split Data into train and test set\n",
        "from sklearn.model_selection import train_test_split\n",
        "X_train,X_test,Y_train,Y_test=train_test_split(X,Y,test_size=0.2,random_state=1)\n",
        "\n",
        "print('X_train:')\n",
        "print(X_train)\n",
        "print('X_test:')\n",
        "print(X_test)\n",
        "print('Y_train:')\n",
        "print(Y_train)\n",
        "print('Y_test:')\n",
        "print(Y_test)\n",
        "#see the result, since there are 10 samples, 8 are there in train indicating 80% of training data"
      ],
      "metadata": {
        "colab": {
          "base_uri": "https://localhost:8080/"
        },
        "id": "DVpyV842gzM3",
        "outputId": "2a16b100-b949-4986-d7fb-af4a69d44061"
      },
      "execution_count": 36,
      "outputs": [
        {
          "output_type": "stream",
          "name": "stdout",
          "text": [
            "X_train:\n",
            "[[1.0 0.0 1.0 0.0 1.0 0.0 0.0 1.0 38.77777777777778 52000.0]\n",
            " [1.0 0.0 1.0 0.0 1.0 0.0 1.0 0.0 40.0 63777.77777777778]\n",
            " [0.0 1.0 0.0 1.0 0.0 1.0 0.0 0.0 44.0 72000.0]\n",
            " [1.0 0.0 1.0 0.0 1.0 0.0 0.0 1.0 38.0 61000.0]\n",
            " [1.0 0.0 1.0 0.0 1.0 0.0 0.0 1.0 27.0 48000.0]\n",
            " [0.0 1.0 0.0 1.0 0.0 1.0 0.0 0.0 48.0 79000.0]\n",
            " [1.0 0.0 1.0 0.0 1.0 0.0 1.0 0.0 50.0 83000.0]\n",
            " [0.0 1.0 0.0 1.0 0.0 1.0 0.0 0.0 35.0 58000.0]]\n",
            "X_test:\n",
            "[[1.0 0.0 1.0 0.0 1.0 0.0 1.0 0.0 30.0 54000.0]\n",
            " [0.0 1.0 0.0 1.0 0.0 1.0 0.0 0.0 37.0 67000.0]]\n",
            "Y_train:\n",
            "[0 1 0 0 1 1 0 1]\n",
            "Y_test:\n",
            "[0 1]\n"
          ]
        }
      ]
    },
    {
      "cell_type": "code",
      "source": [
        "#Feature Scaling\n",
        "from sklearn.preprocessing import StandardScaler\n",
        "sc=StandardScaler()\n",
        "X_train[:,3:]=sc.fit_transform(X_train[:,3:])\n",
        "X_test[:,3:]=sc.fit_transform(X_test[:,3:])\n",
        "print('X_train')\n",
        "print(X_train)\n",
        "print('X_test')\n",
        "print(X_test)"
      ],
      "metadata": {
        "colab": {
          "base_uri": "https://localhost:8080/"
        },
        "id": "2iDJOfmqwDKL",
        "outputId": "c793065d-c00f-407c-be4b-7cc6de8cf688"
      },
      "execution_count": 38,
      "outputs": [
        {
          "output_type": "stream",
          "name": "stdout",
          "text": [
            "X_train\n",
            "[[1.0 0.0 1.0 -0.7745966692414834 0.7745966692414834 -0.7745966692414834\n",
            "  -0.5773502691896258 1.2909944487358056 -0.19159184384578545\n",
            "  -1.0781259408412425]\n",
            " [1.0 0.0 1.0 -0.7745966692414834 0.7745966692414834 -0.7745966692414834\n",
            "  1.7320508075688774 -0.7745966692414834 -0.014117293757057777\n",
            "  -0.07013167641635372]\n",
            " [0.0 1.0 0.0 1.2909944487358056 -1.2909944487358056 1.2909944487358056\n",
            "  -0.5773502691896258 -0.7745966692414834 0.566708506533324\n",
            "  0.633562432710455]\n",
            " [1.0 0.0 1.0 -0.7745966692414834 0.7745966692414834 -0.7745966692414834\n",
            "  -0.5773502691896258 1.2909944487358056 -0.30453019390224867\n",
            "  -0.30786617274297867]\n",
            " [1.0 0.0 1.0 -0.7745966692414834 0.7745966692414834 -0.7745966692414834\n",
            "  -0.5773502691896258 1.2909944487358056 -1.9018011447007988\n",
            "  -1.420463615551582]\n",
            " [0.0 1.0 0.0 1.2909944487358056 -1.2909944487358056 1.2909944487358056\n",
            "  -0.5773502691896258 -0.7745966692414834 1.1475343068237058\n",
            "  1.232653363453549]\n",
            " [1.0 0.0 1.0 -0.7745966692414834 0.7745966692414834 -0.7745966692414834\n",
            "  1.7320508075688774 -0.7745966692414834 1.4379472069688968\n",
            "  1.5749910381638885]\n",
            " [0.0 1.0 0.0 1.2909944487358056 -1.2909944487358056 1.2909944487358056\n",
            "  -0.5773502691896258 -0.7745966692414834 -0.7401495441200351\n",
            "  -0.5646194287757332]]\n",
            "X_test\n",
            "[[1.0 0.0 1.0 -1.0 1.0 -1.0 1.0 0.0 -1.0 -1.0]\n",
            " [0.0 1.0 0.0 1.0 -1.0 1.0 -1.0 0.0 1.0 1.0]]\n"
          ]
        }
      ]
    }
  ]
}